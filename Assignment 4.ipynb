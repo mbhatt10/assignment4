{
 "cells": [
  {
   "cell_type": "markdown",
   "id": "921e88e2-dcf2-4dc1-822d-8960f9e64c15",
   "metadata": {},
   "source": [
    "#Print nmber from 1 to 5 ing a while loop."
   ]
  },
  {
   "cell_type": "code",
   "execution_count": 4,
   "id": "b6cbec2c-cbd3-4e4a-8afb-8bfde530f0d7",
   "metadata": {},
   "outputs": [
    {
     "name": "stdout",
     "output_type": "stream",
     "text": [
      "1\n",
      "2\n",
      "3\n",
      "4\n",
      "5\n"
     ]
    }
   ],
   "source": [
    "a = 1\n",
    "while a <= 5:\n",
    "    print(a)\n",
    "    a += 1\n"
   ]
  },
  {
   "cell_type": "markdown",
   "id": "e9e26ba5-35ad-4fbe-8aee-260fcd95d076",
   "metadata": {},
   "source": [
    "#Calclate the sum of number from 1 to 10 uding a while loop."
   ]
  },
  {
   "cell_type": "code",
   "execution_count": 9,
   "id": "5bb7f58c-7bed-40cb-a0a6-8a15c6dffaeb",
   "metadata": {},
   "outputs": [
    {
     "name": "stdout",
     "output_type": "stream",
     "text": [
      "55\n"
     ]
    }
   ],
   "source": [
    "a = 0\n",
    "b = 1\n",
    "while b <= 10:\n",
    "    a += b\n",
    "    b += 1\n",
    "\n",
    "print( a)\n"
   ]
  },
  {
   "cell_type": "markdown",
   "id": "3561ed06-9771-4ca0-9ce7-7db743affb21",
   "metadata": {},
   "source": [
    "#3 Calclate the factorial of a number using a for loop."
   ]
  },
  {
   "cell_type": "code",
   "execution_count": 10,
   "id": "2d33dd83-8b71-4195-ac61-0bb767a33f39",
   "metadata": {},
   "outputs": [
    {
     "name": "stdout",
     "output_type": "stream",
     "text": [
      "120\n"
     ]
    }
   ],
   "source": [
    "a = 5\n",
    "\n",
    "for i in range(1, a):\n",
    "    a *= i\n",
    "\n",
    "print(a)\n"
   ]
  },
  {
   "cell_type": "markdown",
   "id": "12ef17b2-50fc-4e35-9449-b9062662401d",
   "metadata": {},
   "source": [
    "#4 Y Cont the nmber of vowel in a tring ing a for loop."
   ]
  },
  {
   "cell_type": "code",
   "execution_count": null,
   "id": "fe1e080d-7261-4926-b7ba-e4116dc240c0",
   "metadata": {},
   "outputs": [
    {
     "name": "stdout",
     "output_type": "stream",
     "text": [
      "e\n",
      "o\n",
      "o\n",
      "I\n",
      "a\n",
      "a\n",
      "u\n",
      "e\n"
     ]
    }
   ],
   "source": [
    "a = \"Hello words , I am a DS student\"\n",
    "b = 'aeiouAEIOU'\n",
    "for i in a:\n",
    "    if i in b:\n",
    "        print( i)\n"
   ]
  },
  {
   "cell_type": "markdown",
   "id": "93b2c7d6-f42d-4ad0-90d3-078850a2ab08",
   "metadata": {},
   "source": [
    "#5 c Print a pattern ing neted loop."
   ]
  },
  {
   "cell_type": "code",
   "execution_count": 12,
   "id": "c6775739-80f4-41d4-8fa3-50ce2e83e405",
   "metadata": {},
   "outputs": [
    {
     "name": "stdout",
     "output_type": "stream",
     "text": [
      "* \n",
      "* * \n",
      "* * * \n",
      "* * * * \n",
      "* * * * * \n"
     ]
    }
   ],
   "source": [
    "a = 5\n",
    "\n",
    "for i in range(a):\n",
    "    print(\"* \" * (i + 1))\n"
   ]
  },
  {
   "cell_type": "markdown",
   "id": "801a799c-6e46-4662-9065-093ca9fe648f",
   "metadata": {},
   "source": [
    "#6 Generate a mltiplication table ing neted loop."
   ]
  },
  {
   "cell_type": "markdown",
   "id": "9567ad8c-4609-4b2d-8bfb-d05f754c47dc",
   "metadata": {},
   "source": [
    "I'm not sure how to do this please help me with code and explanination "
   ]
  }
 ],
 "metadata": {
  "kernelspec": {
   "display_name": "Python 3 (ipykernel)",
   "language": "python",
   "name": "python3"
  },
  "language_info": {
   "codemirror_mode": {
    "name": "ipython",
    "version": 3
   },
   "file_extension": ".py",
   "mimetype": "text/x-python",
   "name": "python",
   "nbconvert_exporter": "python",
   "pygments_lexer": "ipython3",
   "version": "3.10.8"
  }
 },
 "nbformat": 4,
 "nbformat_minor": 5
}
